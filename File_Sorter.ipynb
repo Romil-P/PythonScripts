{
 "cells": [
  {
   "cell_type": "code",
   "execution_count": 1,
   "id": "b399fa83",
   "metadata": {},
   "outputs": [],
   "source": [
    "import os, shutil"
   ]
  },
  {
   "cell_type": "code",
   "execution_count": 21,
   "id": "3361adad",
   "metadata": {},
   "outputs": [],
   "source": [
    "# r before the path translates it to raw text\n",
    "path = r\"C:/Users/Romil/Desktop/Python/Projects/File Sorter/Unsorted Files/\""
   ]
  },
  {
   "cell_type": "code",
   "execution_count": 22,
   "id": "2a85b7f5",
   "metadata": {},
   "outputs": [
    {
     "name": "stdout",
     "output_type": "stream",
     "text": [
      "['Apple.png', 'bear.jpg', 'sample.pdf', 'SampleMusic.mp3', 'SamplePeople.xlsx', 'TestNotes.txt']\n"
     ]
    }
   ],
   "source": [
    "# display our files in the current path \n",
    "print(os.listdir(path))\n",
    "\n",
    "file_name=os.listdir(path)"
   ]
  },
  {
   "cell_type": "code",
   "execution_count": 26,
   "id": "680841b3",
   "metadata": {},
   "outputs": [],
   "source": [
    "# if the folders dont exist already, create them\n",
    "\n",
    "folder_names=[\"excel files\",\"image files\",\"pdf files\",\"music files\",\"txt files\"]\n",
    "\n",
    "for i in range(0,5):\n",
    "   if not os.path.exists(path + folder_names[i]): \n",
    "    os.makedirs(path + folder_names[i])"
   ]
  },
  {
   "cell_type": "code",
   "execution_count": 27,
   "id": "b065728e",
   "metadata": {},
   "outputs": [],
   "source": [
    "#check for file type and if its not already inside the folder, move it to according folder\n",
    "\n",
    "for file in file_name:\n",
    "    if \".xlsx\" in file and not os.path.exists(path + \"excel files/\" + file):\n",
    "        shutil.move(path + file, path + \"excel files/\" + file)\n",
    "    elif \".png\" in file and not os.path.exists(path + \"image files/\" + file):\n",
    "        shutil.move(path + file, path + \"image files/\" + file)\n",
    "    elif \".jpg\" in file and not os.path.exists(path + \"image files/\" + file):\n",
    "        shutil.move(path + file, path + \"image files/\" + file)\n",
    "    elif \".pdf\" in file and not os.path.exists(path + \"pdf files/\" + file):\n",
    "        shutil.move(path + file, path + \"pdf files/\" + file)\n",
    "    elif \".mp3\" in file and not os.path.exists(path + \"music files/\" + file):\n",
    "        shutil.move(path + file, path + \"music files/\" + file)\n",
    "    elif \".txt\" in file and not os.path.exists(path + \"txt files/\" + file):\n",
    "        shutil.move(path + file, path + \"txt files/\" + file)\n",
    "    else:\n",
    "        print(\"there are files in this path which are not supported\")"
   ]
  },
  {
   "cell_type": "code",
   "execution_count": null,
   "id": "b8fc904f",
   "metadata": {},
   "outputs": [],
   "source": []
  }
 ],
 "metadata": {
  "kernelspec": {
   "display_name": "Python 3 (ipykernel)",
   "language": "python",
   "name": "python3"
  },
  "language_info": {
   "codemirror_mode": {
    "name": "ipython",
    "version": 3
   },
   "file_extension": ".py",
   "mimetype": "text/x-python",
   "name": "python",
   "nbconvert_exporter": "python",
   "pygments_lexer": "ipython3",
   "version": "3.11.4"
  }
 },
 "nbformat": 4,
 "nbformat_minor": 5
}
