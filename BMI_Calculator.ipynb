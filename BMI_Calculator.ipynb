{
 "cells": [
  {
   "cell_type": "code",
   "execution_count": 2,
   "id": "023e7169",
   "metadata": {},
   "outputs": [
    {
     "name": "stdout",
     "output_type": "stream",
     "text": [
      "Enter your weight in pounds: 170\n",
      "Enter your height in total inches: 69\n",
      "Your BMI is: 25.1\n",
      "Your condition and health risk levels are: Overweight, Increased\n"
     ]
    }
   ],
   "source": [
    "# BMI = ( weight in lbs x 703) / (height in inches x height in inches)\n",
    "\n",
    "\n",
    "while True:\n",
    "  try:\n",
    "    weight = int(input(\"Enter your weight in pounds: \"))\n",
    "    break\n",
    "  except ValueError:\n",
    "      print(\"Please input numbers only.\")  \n",
    "      continue\n",
    "\n",
    "while True:\n",
    "  try:\n",
    "    height = int(input(\"Enter your height in total inches: \"))\n",
    "    break\n",
    "  except ValueError:\n",
    "      print(\"Please input numbers only.\")  \n",
    "      continue\n",
    "    \n",
    "BMI = round((weight * 703) / ( height **2), 2)\n",
    "\n",
    "def classification(BMI):\n",
    "    if BMI < 18.5:\n",
    "        return \"Underweight\"\n",
    "    elif 18.5 <= BMI <= 24.9:\n",
    "        return \"Normal Weight\"\n",
    "    elif 25 <= BMI <= 29.9:\n",
    "        return \"Overweight\"\n",
    "    elif 30 <= BMI <= 34.9:\n",
    "        return \"Obese\"\n",
    "    elif 35 <= BMI <= 39.9:\n",
    "        return \"Severely Obese\"\n",
    "    else:\n",
    "        return \"Morbidly Obese\"\n",
    "\n",
    "def health_risk(BMI):\n",
    "    if BMI <= 24.9:\n",
    "        return \"Minimal\"\n",
    "    elif 25 <= BMI <= 29.9:\n",
    "        return \"Increased\"\n",
    "    elif 30 <= BMI <= 34.9:\n",
    "        return \"High\"\n",
    "    elif 35 <= BMI <= 39.9:\n",
    "        return \"Very High\"\n",
    "    else:\n",
    "        return \"Extremley High\"\n",
    "    \n",
    "print(\"Your BMI is: \" + str(BMI))\n",
    "print(\"Your condition and health risk levels are: \" + classification(BMI) + \", \" + health_risk(BMI) )"
   ]
  },
  {
   "cell_type": "code",
   "execution_count": null,
   "id": "7d317c82",
   "metadata": {},
   "outputs": [],
   "source": []
  }
 ],
 "metadata": {
  "kernelspec": {
   "display_name": "Python 3 (ipykernel)",
   "language": "python",
   "name": "python3"
  },
  "language_info": {
   "codemirror_mode": {
    "name": "ipython",
    "version": 3
   },
   "file_extension": ".py",
   "mimetype": "text/x-python",
   "name": "python",
   "nbconvert_exporter": "python",
   "pygments_lexer": "ipython3",
   "version": "3.11.4"
  }
 },
 "nbformat": 4,
 "nbformat_minor": 5
}
